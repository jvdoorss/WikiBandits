{
 "cells": [
  {
   "cell_type": "code",
   "execution_count": 3,
   "metadata": {},
   "outputs": [],
   "source": [
    "import urllib\n",
    "\n",
    "import requests\n",
    "import numpy as np\n",
    "import pandas as pd\n",
    "from wikipedia2vec import Wikipedia2Vec\n",
    "from scipy.stats import beta\n",
    "import torch\n",
    "from torch.nn import Sequential, Linear, Sigmoid\n"
   ]
  },
  {
   "cell_type": "code",
   "execution_count": 58,
   "metadata": {},
   "outputs": [],
   "source": [
    "class Bandit:\n",
    "    def __init__(self,max_size = 5000000):\n",
    "        self._max_size = max_size\n",
    "        self._embedding = Wikipedia2Vec.load('enwiki_20180420_100d.pkl')\n",
    "        self.classifier = Sequential(Linear(2,1),Sigmoid())\n",
    "    def wiki_size(self,url):\n",
    "        props = requests.head(url).headers\n",
    "        return torch.Tensor([int(props['content-length']) / self._max_size])\n",
    "    def wiki_relevance(self,url,subject):\n",
    "        key_word = url.split('/')[-1].replace('_',' ')\n",
    "        key_vec = torch.Tensor(self._embedding.get_entity_vector(key_word))\n",
    "        word_vec = torch.Tensor(self._embedding.get_word_vector(subject))\n",
    "        return (key_vec @ word_vec)[None]\n",
    "    def representation(self,url,subject):\n",
    "        return torch.stack([self.wiki_relevance(url,subject),self.wiki_size(url)],dim=-1)\n",
    "    def evaluate(self,url,subject):\n",
    "        return self.classifier(self.representation(url,subject))\n",
    "        "
   ]
  },
  {
   "cell_type": "code",
   "execution_count": 59,
   "metadata": {},
   "outputs": [],
   "source": [
    "bandit = Bandit()\n",
    "lotr = 'https://en.wikipedia.org/wiki/The_Lord_of_the_Rings'\n",
    "bandit.evaluate(lotr,'elves')"
   ]
  },
  {
   "cell_type": "code",
   "execution_count": null,
   "metadata": {},
   "outputs": [],
   "source": []
  }
 ],
 "metadata": {
  "interpreter": {
   "hash": "31f2aee4e71d21fbe5cf8b01ff0e069b9275f58929596ceb00d14d90e3e16cd6"
  },
  "kernelspec": {
   "display_name": "Python 3.8.9 64-bit",
   "language": "python",
   "name": "python3"
  },
  "language_info": {
   "codemirror_mode": {
    "name": "ipython",
    "version": 3
   },
   "file_extension": ".py",
   "mimetype": "text/x-python",
   "name": "python",
   "nbconvert_exporter": "python",
   "pygments_lexer": "ipython3",
   "version": "3.8.3"
  },
  "orig_nbformat": 4
 },
 "nbformat": 4,
 "nbformat_minor": 2
}
